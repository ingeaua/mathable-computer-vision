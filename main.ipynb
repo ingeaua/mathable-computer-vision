{
 "cells": [
  {
   "cell_type": "code",
   "execution_count": 10,
   "id": "01fef1ad",
   "metadata": {
    "ExecuteTime": {
     "end_time": "2024-11-19T18:17:32.963759600Z",
     "start_time": "2024-11-19T18:17:32.947760700Z"
    }
   },
   "outputs": [],
   "source": [
    "import cv2 as cv\n",
    "import numpy as np\n",
    "import os\n",
    "import matplotlib.pyplot as plt"
   ]
  },
  {
   "cell_type": "code",
   "execution_count": 11,
   "id": "bb7d42b3",
   "metadata": {
    "ExecuteTime": {
     "end_time": "2024-11-19T18:17:34.639016900Z",
     "start_time": "2024-11-19T18:17:34.632509400Z"
    }
   },
   "outputs": [],
   "source": [
    "def show_image(image, title='titlu'):\n",
    "    # image=cv.resize(image,(0,0),fx=0.5,fy=0.5)\n",
    "    cv.imshow(title,image)\n",
    "    cv.waitKey(0)\n",
    "    cv.destroyAllWindows()"
   ]
  },
  {
   "cell_type": "code",
   "execution_count": 12,
   "outputs": [],
   "source": [
    "def get_game_matrix():\n",
    "    \n",
    "    matrix = [\n",
    "        ['x3', '', '', '', '', '', 'x3', 'x3', '', '', '', '', '', 'x3'],\n",
    "        ['', 'x2', '', '', '/', '', '', '', '', '/', '', '', 'x2', ''],\n",
    "        ['', '', 'x2', '', '', '-', '', '', '-', '', '', 'x2', '', ''],\n",
    "        ['', '', '', 'x2', '', '', '+', '*', '', '', 'x2', '', '', ''],\n",
    "        ['', '/', '', '', 'x2', '', '*', '+', '', 'x2', '', '', '/', ''],\n",
    "        ['', '', '-', '', '', '', '', '', '', '', '', '-', '', ''],\n",
    "        ['x3', '', '', '*', '+', '', 1, 2, '', '*', '+', '', '', 'x3'],\n",
    "        ['x3', '', '', '+', '*', '', 3, 4, '', '+', '*', '', '', 'x3'],\n",
    "        ['', '', '-', '', '', '', '', '', '', '', '', '-', '', ''],\n",
    "        ['', '/', '', '', 'x2', '', '+', '*', '', 'x2', '', '', '/', ''],\n",
    "        ['', '', '', 'x2', '', '', '*', '+', '', '', 'x2', '', '', ''],\n",
    "        ['', '', 'x2', '', '', '-', '', '', '-', '', '', 'x2', '', ''],\n",
    "        ['', 'x2', '', '', '/', '', '', '', '', '/', '', '', 'x2', ''],\n",
    "        ['x3', '', '', '', '', '', 'x3', 'x3', '', '', '', '', '', 'x3']\n",
    "    ]\n",
    "    \n",
    "    return matrix"
   ],
   "metadata": {
    "collapsed": false,
    "ExecuteTime": {
     "end_time": "2024-11-19T18:17:35.160673900Z",
     "start_time": "2024-11-19T18:17:35.156677Z"
    }
   },
   "id": "44b550a138a986bc"
  },
  {
   "cell_type": "code",
   "execution_count": 70,
   "id": "3ca610c3",
   "metadata": {
    "ExecuteTime": {
     "end_time": "2024-11-19T21:46:21.903125600Z",
     "start_time": "2024-11-19T21:46:21.900860700Z"
    }
   },
   "outputs": [],
   "source": [
    "def get_play_area(image):\n",
    "    \n",
    "    # luam canalul blue pentru ca diferenta de intensitate intre masa si tabla e mai mare\n",
    "    \n",
    "    blue, _, _ = cv.split(image)\n",
    "    \n",
    "    # bagam filtrele din laborator\n",
    "    \n",
    "    image_m_blur = cv.medianBlur(blue, 3)\n",
    "    image_g_blur = cv.GaussianBlur(image_m_blur, (0, 0), 5) \n",
    "    image_sharpened = cv.addWeighted(image_m_blur, 1.2, image_g_blur, -0.8, 0)\n",
    "    _, thresh = cv.threshold(image_sharpened, 30, 255, cv.THRESH_BINARY)\n",
    "    thresh = cv.erode(thresh, np.ones((5, 5), np.uint8))\n",
    "\n",
    "    # codul din laborator, luam cel mai mare contur care va fi tabla\n",
    "\n",
    "    contours, _ = cv.findContours(thresh, cv.RETR_TREE, cv.CHAIN_APPROX_SIMPLE)\n",
    "    max_area = 0\n",
    "    top_left, top_right, bottom_right, bottom_left = 0, 0, 0, 0\n",
    "    \n",
    "    for i in range(len(contours)):\n",
    "        if len(contours[i]) > 3:\n",
    "            possible_top_left = None\n",
    "            possible_bottom_right = None\n",
    "            for point in contours[i].squeeze():\n",
    "                if possible_top_left is None or point[0] + point[1] < possible_top_left[0] + possible_top_left[1]:\n",
    "                    possible_top_left = point\n",
    "\n",
    "                if possible_bottom_right is None or point[0] + point[1] > possible_bottom_right[0] + possible_bottom_right[1]:\n",
    "                    possible_bottom_right = point\n",
    "\n",
    "            diff = np.diff(contours[i].squeeze(), axis=1)\n",
    "            possible_top_right = contours[i].squeeze()[np.argmin(diff)]\n",
    "            possible_bottom_left = contours[i].squeeze()[np.argmax(diff)]\n",
    "            if cv.contourArea(np.array([[possible_top_left], [possible_top_right], [possible_bottom_right], [possible_bottom_left]])) > max_area:\n",
    "                max_area = cv.contourArea(np.array([[possible_top_left], [possible_top_right], [possible_bottom_right], [possible_bottom_left]]))\n",
    "                top_left = possible_top_left\n",
    "                bottom_right = possible_bottom_right\n",
    "                top_right = possible_top_right\n",
    "                bottom_left = possible_bottom_left\n",
    "    \n",
    "    width = 2000\n",
    "    height = 2000\n",
    "    \n",
    "    puzzle = np.array([top_left, top_right, bottom_right, bottom_left], dtype=\"float32\")\n",
    "    destination_of_puzzle = np.array([[0, 0], [width, 0], [width, height], [0, height]], dtype=\"float32\")\n",
    "    M = cv.getPerspectiveTransform(puzzle, destination_of_puzzle)\n",
    "    # result e tabla (cu tot cu marginea albastra)\n",
    "    result = cv.warpPerspective(image, M, (width, height))\n",
    "    \n",
    "    # hard-coded luam doar partea relevanta din tabla si o facem de 1400 x 1400 ca sa aiba fiecare patratel 100 x 100\n",
    "    x_start, y_start = 260, 260\n",
    "    x_end, y_end = 1740, 1750\n",
    "    game_area = result[y_start:y_end, x_start:x_end]\n",
    "    resized_game_area = cv.resize(game_area, (1400, 1400))\n",
    "    \n",
    "    return resized_game_area\n"
   ]
  },
  {
   "cell_type": "code",
   "execution_count": 94,
   "outputs": [],
   "source": [
    "pieces = [x for x in range(22)] + [24, 25, 27, 28, 30, 32, 35, 36, 40, 42, 45, 48, 49, 50, 54, 56, 60, 63, 64, 70, 72, 80, 81, 90]\n",
    "\n",
    "def classify_number(patch):\n",
    "        maxi=-np.inf\n",
    "        poz=-1\n",
    "        _, patch_thresh = cv.threshold(patch, 67, 255, cv.THRESH_BINARY)\n",
    "        # am facut poza asta mai mare ca gen daca eu cautam un template intr o poza si ambele aveau aceeasi dimensiune imi rezulta un singur pixel??\n",
    "        # un singur canal o facem\n",
    "        picture_for_search = np.full(shape=(patch.shape[0] * 3, patch.shape[1] * 3), dtype=np.uint8, fill_value=255)\n",
    "        picture_for_search[patch.shape[0]: 2*patch.shape[0], patch.shape[1]:2*patch.shape[1]] = patch_thresh\n",
    "        cv.imwrite('big.jpg', picture_for_search)\n",
    "\n",
    "        for piece in pieces:\n",
    "            img_template = cv.imread('templates/'+str(piece)+'.jpg')\n",
    "            img_template= cv.cvtColor(img_template,cv.COLOR_BGR2GRAY)\n",
    "            _, img_template = cv.threshold(img_template, 67, 255, cv.THRESH_BINARY) \n",
    "            corr = cv.matchTemplate(picture_for_search, img_template,  cv.TM_CCOEFF_NORMED)\n",
    "            corr=np.max(corr)\n",
    "            if corr>maxi:\n",
    "                maxi=corr\n",
    "                poz=piece\n",
    "        return poz"
   ],
   "metadata": {
    "collapsed": false,
    "ExecuteTime": {
     "end_time": "2024-11-19T23:03:27.824383100Z",
     "start_time": "2024-11-19T23:03:27.813686200Z"
    }
   },
   "id": "9fc5dff52ba74d0f"
  },
  {
   "cell_type": "code",
   "execution_count": 85,
   "outputs": [],
   "source": [
    "def plot_heatmap(matrix):\n",
    "    \n",
    "    fig, ax = plt.subplots(figsize=(8, 8))\n",
    "    heatmap = ax.imshow(matrix, cmap='viridis', interpolation='nearest')\n",
    "\n",
    "    for i in range(14):\n",
    "        for j in range(14):\n",
    "            ax.text(j, i, f\"{matrix[i, j]:.1f}\", ha='center', va='center', color='white')\n",
    "\n",
    "    plt.colorbar(heatmap, label='Mean Difference')\n",
    "    ax.set_xticks(range(matrix.shape[1]))\n",
    "    ax.set_yticks(range(matrix.shape[0]))\n",
    "    ax.set_xticklabels([chr(65 + j) for j in range(matrix.shape[1])])  \n",
    "    ax.set_yticklabels(range(1, matrix.shape[0] + 1))  \n",
    "    plt.title('Mean Difference Heatmap')\n",
    "    plt.xlabel('Columns')\n",
    "    plt.ylabel('Rows')\n",
    "    plt.show()"
   ],
   "metadata": {
    "collapsed": false,
    "ExecuteTime": {
     "end_time": "2024-11-19T22:25:14.454713Z",
     "start_time": "2024-11-19T22:25:14.450205800Z"
    }
   },
   "id": "221cad87a4d70377"
  },
  {
   "cell_type": "code",
   "execution_count": 89,
   "id": "73b602a4",
   "metadata": {
    "ExecuteTime": {
     "end_time": "2024-11-19T22:33:04.452300600Z",
     "start_time": "2024-11-19T22:33:04.450158700Z"
    }
   },
   "outputs": [],
   "source": [
    "lines_horizontal = []\n",
    "lines_vertical = []\n",
    "\n",
    "for i in range(0,1401,100):\n",
    "    l_h = []\n",
    "    l_v=[]\n",
    "    l_h.append((0,i))\n",
    "    l_h.append((1399,i))\n",
    "    l_v.append((i,0))\n",
    "    l_v.append((i,1399))\n",
    "    lines_horizontal.append(l_h)\n",
    "    lines_vertical.append(l_v)\n",
    "\n",
    "def get_placed_piece_position(prev_board, curr_board):\n",
    "    \n",
    "    # grayscale + threshhold pe poza previous si current\n",
    "     \n",
    "    prev_gray = cv.cvtColor(prev_board,cv.COLOR_BGR2GRAY)\n",
    "    curr_gray = cv.cvtColor(curr_board,cv.COLOR_BGR2GRAY)\n",
    "    \n",
    "    _, prev_board_thresh = cv.threshold(prev_gray, 67, 255, cv.THRESH_BINARY)\n",
    "    _, curr_board_thresh = cv.threshold(curr_gray, 67, 255, cv.THRESH_BINARY)\n",
    "    \n",
    "    # ------------------\n",
    "    \n",
    "    searched_i, searched_j = 0, 0\n",
    "    max_mean_difference = 0\n",
    "    mean_diffs_matrix = np.zeros((14,14)) # for heatmap\n",
    "    new_piece_patch = None\n",
    "    \n",
    "    # pe fiecare patch facem diferenta absoluta intre media intensitatii pixelilor si luam maximul\n",
    "    \n",
    "    for i in range(len(lines_horizontal)-1):\n",
    "        for j in range(len(lines_vertical)-1):\n",
    "            y_min = lines_vertical[j][0][0] + 8\n",
    "            y_max = lines_vertical[j + 1][1][0] - 8\n",
    "            x_min = lines_horizontal[i][0][1] + 8\n",
    "            x_max = lines_horizontal[i + 1][1][1] - 8\n",
    "            prev_patch = prev_board_thresh[x_min:x_max, y_min:y_max].copy()\n",
    "            curr_patch = curr_board_thresh[x_min:x_max, y_min:y_max].copy()\n",
    "            \n",
    "            prev_patch_mean = np.mean(prev_patch)\n",
    "            curr_patch_mean = np.mean(curr_patch)\n",
    "            \n",
    "            mean_diffs_matrix[i][j] = abs(prev_patch_mean - curr_patch_mean)\n",
    "            \n",
    "            if abs(prev_patch_mean - curr_patch_mean) > max_mean_difference:\n",
    "                max_mean_difference = abs(prev_patch_mean - curr_patch_mean)\n",
    "                searched_i, searched_j = i, j\n",
    "                new_piece_patch = curr_gray[x_min:x_max, y_min:y_max].copy()\n",
    "           \n",
    "    number_on_piece = classify_number(new_piece_patch)\n",
    "    \n",
    "    # plot_heatmap(mean_diffs_matrix)\n",
    "\n",
    "    return (searched_i, searched_j) , number_on_piece"
   ]
  },
  {
   "cell_type": "code",
   "execution_count": 95,
   "outputs": [],
   "source": [
    "# ------------------ pt documentatie\n",
    "\n",
    "prev_pic = cv.imread('antrenare/2_25.jpg')\n",
    "curr_pic = cv.imread('antrenare/2_26.jpg')\n",
    "prev_board = get_play_area(prev_pic)\n",
    "curr_board = get_play_area(curr_pic)\n",
    "\n",
    "a, b = get_placed_piece_position(prev_board, curr_board)\n",
    "\n",
    "# cv.imwrite('thresh-26.jpg', curr_board_thresh_copy)\n",
    "\n",
    "# ------------------"
   ],
   "metadata": {
    "collapsed": false,
    "ExecuteTime": {
     "end_time": "2024-11-19T23:03:31.283868Z",
     "start_time": "2024-11-19T23:03:30.765751900Z"
    }
   },
   "id": "451db956bc848599"
  },
  {
   "cell_type": "code",
   "execution_count": 17,
   "outputs": [],
   "source": [
    "operations = ['+', '-', '*', '/']\n",
    "multipliers = ['x2', 'x3']\n",
    "directions = [[(-1, 0), (-2, 0)], [(0, 1), (0, 2)], [(1, 0), (2, 0)], [(0, -1), (0, -2)]]\n",
    "\n",
    "def is_within_bounds(i, j, matrix_size=14):\n",
    "    return 0 <= i < matrix_size and 0 <= j < matrix_size\n",
    "\n",
    "def get_move_score(game_matrix, piece, position):\n",
    "    \n",
    "    piece_i, piece_j = position\n",
    "    under_piece = game_matrix[piece_i][piece_j]\n",
    "    valid_eq = []\n",
    "    used_multiplier = 1\n",
    "    \n",
    "    if under_piece in multipliers:\n",
    "        used_multiplier = int(under_piece[-1])\n",
    "    \n",
    "    for direction in directions:\n",
    "        neighb_i = piece_i + direction[0][0]\n",
    "        neighb_j = piece_j + direction[0][1]\n",
    "        far_neighb_i = piece_i + direction[1][0]\n",
    "        far_neighb_j = piece_j + direction[1][1]\n",
    "        \n",
    "        if is_within_bounds(neighb_i, neighb_j) and is_within_bounds(far_neighb_i, far_neighb_j):\n",
    "            neighb = game_matrix[neighb_i][neighb_j]\n",
    "            far_neighb = game_matrix[far_neighb_i][far_neighb_j]\n",
    "            if type(neighb) is int and type(far_neighb) is int:\n",
    "                if neighb + far_neighb == piece:\n",
    "                    valid_eq.append((piece, '+'))\n",
    "                elif neighb * far_neighb == piece:\n",
    "                    valid_eq.append((piece, '*'))\n",
    "                elif max(neighb, far_neighb) - min(neighb, far_neighb) == piece: \n",
    "                    valid_eq.append((piece, '-'))\n",
    "                elif min(neighb, far_neighb) != 0:\n",
    "                    if max(neighb, far_neighb) // min(neighb, far_neighb) == piece: \n",
    "                        valid_eq.append((piece, '/'))\n",
    "                    \n",
    "    if under_piece in operations:\n",
    "        valid_eq = [x for x in valid_eq if x[1] == under_piece]\n",
    "            \n",
    "    game_matrix[piece_i][piece_j] = piece\n",
    "        \n",
    "    return game_matrix, used_multiplier * sum([x[0] for x in valid_eq])\n",
    "    \n"
   ],
   "metadata": {
    "collapsed": false,
    "ExecuteTime": {
     "end_time": "2024-11-19T18:17:38.720086700Z",
     "start_time": "2024-11-19T18:17:38.716154500Z"
    }
   },
   "id": "5b5e2e5b1b19f955"
  },
  {
   "cell_type": "code",
   "execution_count": 28,
   "outputs": [],
   "source": [
    "moves = ['0' + str(x) for x in range(1, 10)]  + [str(x) for x in range (10, 51)]\n",
    "\n",
    "def solve_game(game_idx):\n",
    "    \n",
    "    game_matrix = get_game_matrix() # matrix that represents the game table\n",
    "    turn_vector = [(line.split()[0], int(line.split()[1])) for line in open(f'evaluare/fake_test/{game_idx}_turns.txt')] # vector of tuples of player name and move index\n",
    "    \n",
    "    current_turn_score = 0 # score for the player that is currently moving\n",
    "    current_turn_index = 0 \n",
    "    current_player = turn_vector[current_turn_index][0]\n",
    "    \n",
    "    scores_file = open(f'331_Ingeaua_Alexandru-Cristian/{game_idx}_scores.txt', 'a')\n",
    "    \n",
    "    for move_idx in range(len(moves)):\n",
    "        prev_img = None\n",
    "        if moves[move_idx] == '01':\n",
    "            prev_img = cv.imread('imagini_auxiliare/01.jpg')\n",
    "        else:\n",
    "            prev_img = cv.imread(f'evaluare/fake_test/{game_idx}_{moves[move_idx-1]}.jpg')\n",
    "        curr_img = cv.imread(f'evaluare/fake_test/{game_idx}_{moves[move_idx]}.jpg')\n",
    "        \n",
    "        prev_board = get_play_area(prev_img)\n",
    "        curr_board = get_play_area(curr_img)\n",
    "        \n",
    "        position, piece = get_placed_piece_position(prev_board, curr_board)\n",
    "        \n",
    "        move_file = open(f'331_Ingeaua_Alexandru-Cristian/{game_idx}_{moves[move_idx]}.txt', 'w')\n",
    "        move_file.write(f'{position[0]+1}{chr(position[1]+65)} {piece}')\n",
    "        move_file.close()\n",
    "        \n",
    "        game_matrix, move_score = get_move_score(game_matrix, piece, position)\n",
    "        current_turn_score += move_score\n",
    "        \n",
    "        if current_turn_index < len(turn_vector)-1:\n",
    "            if move_idx + 2 == turn_vector[current_turn_index+1][1]:\n",
    "                scores_file.write(f'{current_player} {turn_vector[current_turn_index][1]} {current_turn_score}\\n')\n",
    "                current_turn_score = 0\n",
    "                current_turn_index += 1\n",
    "                current_player = turn_vector[current_turn_index][0] \n",
    "        if move_idx == 49:\n",
    "            scores_file.write(f'{current_player} {turn_vector[current_turn_index][1]} {current_turn_score}')\n",
    "            return\n",
    "\n",
    "    scores_file.close()\n",
    "            "
   ],
   "metadata": {
    "collapsed": false,
    "ExecuteTime": {
     "end_time": "2024-11-19T18:37:21.221181500Z",
     "start_time": "2024-11-19T18:37:21.213184800Z"
    }
   },
   "id": "2776847b42950368"
  },
  {
   "cell_type": "code",
   "execution_count": 29,
   "outputs": [],
   "source": [
    "solve_game(1)"
   ],
   "metadata": {
    "collapsed": false,
    "ExecuteTime": {
     "end_time": "2024-11-19T18:37:41.712005900Z",
     "start_time": "2024-11-19T18:37:21.592834200Z"
    }
   },
   "id": "62c9e87c066a4ba1"
  },
  {
   "cell_type": "code",
   "execution_count": 20,
   "outputs": [],
   "source": [
    "os.mkdir('331_Ingeaua_Alexandru-Cristian')\n",
    "\n",
    "for game in ['1', '2', '3', '4']:\n",
    "    solve_game(game)\n",
    "    "
   ],
   "metadata": {
    "collapsed": false,
    "ExecuteTime": {
     "end_time": "2024-11-19T18:17:51.644807300Z",
     "start_time": "2024-11-19T18:17:51.638812400Z"
    }
   },
   "id": "4d6a8ea80f3ce352"
  },
  {
   "cell_type": "code",
   "execution_count": 49,
   "outputs": [],
   "source": [
    "# def get_piece_patches(empty_board, board_with_pieces, lines_horizontal, lines_vertical):\n",
    "# \n",
    "#     empty_gray = cv.cvtColor(empty_board, cv.COLOR_BGR2GRAY)\n",
    "#     full_gray = cv.cvtColor(board_with_pieces, cv.COLOR_BGR2GRAY)\n",
    "# \n",
    "#     _, empty_board_thresh = cv.threshold(empty_gray, 67, 255, cv.THRESH_BINARY)\n",
    "#     _, full_board_thresh = cv.threshold(full_gray, 67, 255, cv.THRESH_BINARY)\n",
    "# \n",
    "#     # ------------------\n",
    "# \n",
    "#     mean_diffs_abs = np.zeros((14, 14))  # abs diff matrix\n",
    "# \n",
    "#     # ------------------\n",
    "# \n",
    "#     for i in range(len(lines_horizontal) - 1):\n",
    "#         for j in range(len(lines_vertical) - 1):\n",
    "#             y_min = lines_vertical[j][0][0] + 8\n",
    "#             y_max = lines_vertical[j + 1][1][0] - 8\n",
    "#             x_min = lines_horizontal[i][0][1] + 8\n",
    "#             x_max = lines_horizontal[i + 1][1][1] - 8\n",
    "#             empty_patch = empty_board_thresh[x_min:x_max, y_min:y_max].copy()\n",
    "#             full_patch = full_board_thresh[x_min:x_max, y_min:y_max].copy()\n",
    "# \n",
    "#             empty_patch_mean = np.mean(empty_patch)\n",
    "#             full_patch_mean = np.mean(full_patch)\n",
    "# \n",
    "#             mean_diffs_abs[i][j] = abs(empty_patch_mean - full_patch_mean)\n",
    "# \n",
    "#     flat_matrix = mean_diffs_abs.flatten()\n",
    "# \n",
    "#     top_indices = np.argpartition(flat_matrix, -46)[-46:]\n",
    "#     top_indices = top_indices[np.argsort(flat_matrix[top_indices])[::-1]]\n",
    "#     top_indices_2d = [divmod(idx, 14) for idx in top_indices]\n",
    "# \n",
    "#     patches = []\n",
    "#     \n",
    "#     for i, j in top_indices_2d:\n",
    "#         y_min = lines_vertical[j][0][0] + 8\n",
    "#         y_max = lines_vertical[j + 1][1][0] - 8\n",
    "#         x_min = lines_horizontal[i][0][1] + 8\n",
    "#         x_max = lines_horizontal[i + 1][1][1] - 8\n",
    "#         searched_patch = board_with_pieces[x_min:x_max, y_min:y_max].copy()\n",
    "#         patches.append(searched_patch)\n",
    "#         \n",
    "#     if not os.path.exists(\"templates\"):\n",
    "#         os.makedirs(\"templates\")\n",
    "# \n",
    "#     for idx, patch in enumerate(patches):\n",
    "#         full_path = f\"templates/{idx}.jpg\"\n",
    "#         cv.imwrite(full_path, patch)\n",
    "#         \n",
    "# empty_board = cv.imread('imagini_auxiliare/01.jpg')\n",
    "# board_with_pieces = cv.imread('imagini_auxiliare/04.jpg')\n",
    "# \n",
    "# empty_board = get_play_area(empty_board)\n",
    "# board_with_pieces = get_play_area(board_with_pieces)\n",
    "# \n",
    "# get_piece_patches(empty_board, board_with_pieces, lines_horizontal, lines_vertical)"
   ],
   "metadata": {
    "collapsed": false,
    "ExecuteTime": {
     "end_time": "2024-11-16T13:19:30.545127300Z",
     "start_time": "2024-11-16T13:19:30.540126300Z"
    }
   },
   "id": "442aa38c114f23ff"
  }
 ],
 "metadata": {
  "kernelspec": {
   "display_name": "Python 3 (ipykernel)",
   "language": "python",
   "name": "python3"
  },
  "language_info": {
   "codemirror_mode": {
    "name": "ipython",
    "version": 3
   },
   "file_extension": ".py",
   "mimetype": "text/x-python",
   "name": "python",
   "nbconvert_exporter": "python",
   "pygments_lexer": "ipython3",
   "version": "3.9.16"
  }
 },
 "nbformat": 4,
 "nbformat_minor": 5
}
